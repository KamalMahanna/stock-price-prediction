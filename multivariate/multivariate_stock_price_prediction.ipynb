{
  "nbformat": 4,
  "nbformat_minor": 0,
  "metadata": {
    "colab": {
      "provenance": [],
      "gpuType": "T4"
    },
    "kernelspec": {
      "name": "python3",
      "display_name": "Python 3"
    },
    "language_info": {
      "name": "python"
    },
    "accelerator": "GPU"
  },
  "cells": [
    {
      "cell_type": "code",
      "execution_count": 1,
      "metadata": {
        "id": "LFeiTing8MZB"
      },
      "outputs": [],
      "source": [
        "import pandas as pd\n",
        "import numpy as np\n",
        "import yfinance as yf\n",
        "import seaborn as sn\n",
        "import matplotlib.pyplot as plt\n",
        "\n",
        "from tensorflow.keras.models import Sequential\n",
        "from tensorflow.keras.layers import LSTM,Dense,Dropout, InputLayer, Activation,concatenate\n",
        "from tensorflow.keras.callbacks import EarlyStopping\n",
        "from tensorflow.keras.metrics import RootMeanSquaredError\n",
        "from tensorflow.keras.optimizers import Adam\n",
        "from sklearn.preprocessing import MinMaxScaler\n",
        "import plotly.graph_objects as go"
      ]
    },
    {
      "cell_type": "code",
      "source": [
        "# Google's stock price\n",
        "data=yf.download(\"GOOG\")"
      ],
      "metadata": {
        "colab": {
          "base_uri": "https://localhost:8080/"
        },
        "id": "ip1_BJfL8UO-",
        "outputId": "49184d61-0f4c-4afd-bdb6-37baae7e216c"
      },
      "execution_count": 2,
      "outputs": [
        {
          "output_type": "stream",
          "name": "stdout",
          "text": [
            "\r[*********************100%***********************]  1 of 1 completed\n"
          ]
        }
      ]
    },
    {
      "cell_type": "code",
      "source": [
        "data"
      ],
      "metadata": {
        "colab": {
          "base_uri": "https://localhost:8080/",
          "height": 455
        },
        "id": "sUmEKlg89ZOE",
        "outputId": "07eb7f19-4dd4-4a40-86cd-d8a8362e80f6"
      },
      "execution_count": 3,
      "outputs": [
        {
          "output_type": "execute_result",
          "data": {
            "text/plain": [
              "                  Open        High         Low       Close   Adj Close  \\\n",
              "Date                                                                     \n",
              "2004-08-19    2.490664    2.591785    2.390042    2.499133    2.499133   \n",
              "2004-08-20    2.515820    2.716817    2.503118    2.697639    2.697639   \n",
              "2004-08-23    2.758411    2.826406    2.716070    2.724787    2.724787   \n",
              "2004-08-24    2.770615    2.779581    2.579581    2.611960    2.611960   \n",
              "2004-08-25    2.614201    2.689918    2.587302    2.640104    2.640104   \n",
              "...                ...         ...         ...         ...         ...   \n",
              "2023-08-07  129.509995  132.059998  129.429993  131.940002  131.940002   \n",
              "2023-08-08  130.979996  131.940002  130.130005  131.839996  131.839996   \n",
              "2023-08-09  132.190002  132.470001  129.505005  130.149994  130.149994   \n",
              "2023-08-10  131.970001  132.647003  130.035004  130.210007  130.210007   \n",
              "2023-08-11  129.201996  130.440002  128.750000  130.169998  130.169998   \n",
              "\n",
              "               Volume  \n",
              "Date                   \n",
              "2004-08-19  897427216  \n",
              "2004-08-20  458857488  \n",
              "2004-08-23  366857939  \n",
              "2004-08-24  306396159  \n",
              "2004-08-25  184645512  \n",
              "...               ...  \n",
              "2023-08-07   17621000  \n",
              "2023-08-08   16836000  \n",
              "2023-08-09   17745200  \n",
              "2023-08-10   17855700  \n",
              "2023-08-11   15191500  \n",
              "\n",
              "[4778 rows x 6 columns]"
            ],
            "text/html": [
              "\n",
              "\n",
              "  <div id=\"df-531d81a8-3fee-4310-8c43-f8f682e057f2\">\n",
              "    <div class=\"colab-df-container\">\n",
              "      <div>\n",
              "<style scoped>\n",
              "    .dataframe tbody tr th:only-of-type {\n",
              "        vertical-align: middle;\n",
              "    }\n",
              "\n",
              "    .dataframe tbody tr th {\n",
              "        vertical-align: top;\n",
              "    }\n",
              "\n",
              "    .dataframe thead th {\n",
              "        text-align: right;\n",
              "    }\n",
              "</style>\n",
              "<table border=\"1\" class=\"dataframe\">\n",
              "  <thead>\n",
              "    <tr style=\"text-align: right;\">\n",
              "      <th></th>\n",
              "      <th>Open</th>\n",
              "      <th>High</th>\n",
              "      <th>Low</th>\n",
              "      <th>Close</th>\n",
              "      <th>Adj Close</th>\n",
              "      <th>Volume</th>\n",
              "    </tr>\n",
              "    <tr>\n",
              "      <th>Date</th>\n",
              "      <th></th>\n",
              "      <th></th>\n",
              "      <th></th>\n",
              "      <th></th>\n",
              "      <th></th>\n",
              "      <th></th>\n",
              "    </tr>\n",
              "  </thead>\n",
              "  <tbody>\n",
              "    <tr>\n",
              "      <th>2004-08-19</th>\n",
              "      <td>2.490664</td>\n",
              "      <td>2.591785</td>\n",
              "      <td>2.390042</td>\n",
              "      <td>2.499133</td>\n",
              "      <td>2.499133</td>\n",
              "      <td>897427216</td>\n",
              "    </tr>\n",
              "    <tr>\n",
              "      <th>2004-08-20</th>\n",
              "      <td>2.515820</td>\n",
              "      <td>2.716817</td>\n",
              "      <td>2.503118</td>\n",
              "      <td>2.697639</td>\n",
              "      <td>2.697639</td>\n",
              "      <td>458857488</td>\n",
              "    </tr>\n",
              "    <tr>\n",
              "      <th>2004-08-23</th>\n",
              "      <td>2.758411</td>\n",
              "      <td>2.826406</td>\n",
              "      <td>2.716070</td>\n",
              "      <td>2.724787</td>\n",
              "      <td>2.724787</td>\n",
              "      <td>366857939</td>\n",
              "    </tr>\n",
              "    <tr>\n",
              "      <th>2004-08-24</th>\n",
              "      <td>2.770615</td>\n",
              "      <td>2.779581</td>\n",
              "      <td>2.579581</td>\n",
              "      <td>2.611960</td>\n",
              "      <td>2.611960</td>\n",
              "      <td>306396159</td>\n",
              "    </tr>\n",
              "    <tr>\n",
              "      <th>2004-08-25</th>\n",
              "      <td>2.614201</td>\n",
              "      <td>2.689918</td>\n",
              "      <td>2.587302</td>\n",
              "      <td>2.640104</td>\n",
              "      <td>2.640104</td>\n",
              "      <td>184645512</td>\n",
              "    </tr>\n",
              "    <tr>\n",
              "      <th>...</th>\n",
              "      <td>...</td>\n",
              "      <td>...</td>\n",
              "      <td>...</td>\n",
              "      <td>...</td>\n",
              "      <td>...</td>\n",
              "      <td>...</td>\n",
              "    </tr>\n",
              "    <tr>\n",
              "      <th>2023-08-07</th>\n",
              "      <td>129.509995</td>\n",
              "      <td>132.059998</td>\n",
              "      <td>129.429993</td>\n",
              "      <td>131.940002</td>\n",
              "      <td>131.940002</td>\n",
              "      <td>17621000</td>\n",
              "    </tr>\n",
              "    <tr>\n",
              "      <th>2023-08-08</th>\n",
              "      <td>130.979996</td>\n",
              "      <td>131.940002</td>\n",
              "      <td>130.130005</td>\n",
              "      <td>131.839996</td>\n",
              "      <td>131.839996</td>\n",
              "      <td>16836000</td>\n",
              "    </tr>\n",
              "    <tr>\n",
              "      <th>2023-08-09</th>\n",
              "      <td>132.190002</td>\n",
              "      <td>132.470001</td>\n",
              "      <td>129.505005</td>\n",
              "      <td>130.149994</td>\n",
              "      <td>130.149994</td>\n",
              "      <td>17745200</td>\n",
              "    </tr>\n",
              "    <tr>\n",
              "      <th>2023-08-10</th>\n",
              "      <td>131.970001</td>\n",
              "      <td>132.647003</td>\n",
              "      <td>130.035004</td>\n",
              "      <td>130.210007</td>\n",
              "      <td>130.210007</td>\n",
              "      <td>17855700</td>\n",
              "    </tr>\n",
              "    <tr>\n",
              "      <th>2023-08-11</th>\n",
              "      <td>129.201996</td>\n",
              "      <td>130.440002</td>\n",
              "      <td>128.750000</td>\n",
              "      <td>130.169998</td>\n",
              "      <td>130.169998</td>\n",
              "      <td>15191500</td>\n",
              "    </tr>\n",
              "  </tbody>\n",
              "</table>\n",
              "<p>4778 rows × 6 columns</p>\n",
              "</div>\n",
              "      <button class=\"colab-df-convert\" onclick=\"convertToInteractive('df-531d81a8-3fee-4310-8c43-f8f682e057f2')\"\n",
              "              title=\"Convert this dataframe to an interactive table.\"\n",
              "              style=\"display:none;\">\n",
              "\n",
              "  <svg xmlns=\"http://www.w3.org/2000/svg\" height=\"24px\"viewBox=\"0 0 24 24\"\n",
              "       width=\"24px\">\n",
              "    <path d=\"M0 0h24v24H0V0z\" fill=\"none\"/>\n",
              "    <path d=\"M18.56 5.44l.94 2.06.94-2.06 2.06-.94-2.06-.94-.94-2.06-.94 2.06-2.06.94zm-11 1L8.5 8.5l.94-2.06 2.06-.94-2.06-.94L8.5 2.5l-.94 2.06-2.06.94zm10 10l.94 2.06.94-2.06 2.06-.94-2.06-.94-.94-2.06-.94 2.06-2.06.94z\"/><path d=\"M17.41 7.96l-1.37-1.37c-.4-.4-.92-.59-1.43-.59-.52 0-1.04.2-1.43.59L10.3 9.45l-7.72 7.72c-.78.78-.78 2.05 0 2.83L4 21.41c.39.39.9.59 1.41.59.51 0 1.02-.2 1.41-.59l7.78-7.78 2.81-2.81c.8-.78.8-2.07 0-2.86zM5.41 20L4 18.59l7.72-7.72 1.47 1.35L5.41 20z\"/>\n",
              "  </svg>\n",
              "      </button>\n",
              "\n",
              "\n",
              "\n",
              "    <div id=\"df-7b4c471a-1ca3-4964-9af1-e311f431744a\">\n",
              "      <button class=\"colab-df-quickchart\" onclick=\"quickchart('df-7b4c471a-1ca3-4964-9af1-e311f431744a')\"\n",
              "              title=\"Suggest charts.\"\n",
              "              style=\"display:none;\">\n",
              "\n",
              "<svg xmlns=\"http://www.w3.org/2000/svg\" height=\"24px\"viewBox=\"0 0 24 24\"\n",
              "     width=\"24px\">\n",
              "    <g>\n",
              "        <path d=\"M19 3H5c-1.1 0-2 .9-2 2v14c0 1.1.9 2 2 2h14c1.1 0 2-.9 2-2V5c0-1.1-.9-2-2-2zM9 17H7v-7h2v7zm4 0h-2V7h2v10zm4 0h-2v-4h2v4z\"/>\n",
              "    </g>\n",
              "</svg>\n",
              "      </button>\n",
              "    </div>\n",
              "\n",
              "<style>\n",
              "  .colab-df-quickchart {\n",
              "    background-color: #E8F0FE;\n",
              "    border: none;\n",
              "    border-radius: 50%;\n",
              "    cursor: pointer;\n",
              "    display: none;\n",
              "    fill: #1967D2;\n",
              "    height: 32px;\n",
              "    padding: 0 0 0 0;\n",
              "    width: 32px;\n",
              "  }\n",
              "\n",
              "  .colab-df-quickchart:hover {\n",
              "    background-color: #E2EBFA;\n",
              "    box-shadow: 0px 1px 2px rgba(60, 64, 67, 0.3), 0px 1px 3px 1px rgba(60, 64, 67, 0.15);\n",
              "    fill: #174EA6;\n",
              "  }\n",
              "\n",
              "  [theme=dark] .colab-df-quickchart {\n",
              "    background-color: #3B4455;\n",
              "    fill: #D2E3FC;\n",
              "  }\n",
              "\n",
              "  [theme=dark] .colab-df-quickchart:hover {\n",
              "    background-color: #434B5C;\n",
              "    box-shadow: 0px 1px 3px 1px rgba(0, 0, 0, 0.15);\n",
              "    filter: drop-shadow(0px 1px 2px rgba(0, 0, 0, 0.3));\n",
              "    fill: #FFFFFF;\n",
              "  }\n",
              "</style>\n",
              "\n",
              "    <script>\n",
              "      async function quickchart(key) {\n",
              "        const containerElement = document.querySelector('#' + key);\n",
              "        const charts = await google.colab.kernel.invokeFunction(\n",
              "            'suggestCharts', [key], {});\n",
              "      }\n",
              "    </script>\n",
              "\n",
              "      <script>\n",
              "\n",
              "function displayQuickchartButton(domScope) {\n",
              "  let quickchartButtonEl =\n",
              "    domScope.querySelector('#df-7b4c471a-1ca3-4964-9af1-e311f431744a button.colab-df-quickchart');\n",
              "  quickchartButtonEl.style.display =\n",
              "    google.colab.kernel.accessAllowed ? 'block' : 'none';\n",
              "}\n",
              "\n",
              "        displayQuickchartButton(document);\n",
              "      </script>\n",
              "      <style>\n",
              "    .colab-df-container {\n",
              "      display:flex;\n",
              "      flex-wrap:wrap;\n",
              "      gap: 12px;\n",
              "    }\n",
              "\n",
              "    .colab-df-convert {\n",
              "      background-color: #E8F0FE;\n",
              "      border: none;\n",
              "      border-radius: 50%;\n",
              "      cursor: pointer;\n",
              "      display: none;\n",
              "      fill: #1967D2;\n",
              "      height: 32px;\n",
              "      padding: 0 0 0 0;\n",
              "      width: 32px;\n",
              "    }\n",
              "\n",
              "    .colab-df-convert:hover {\n",
              "      background-color: #E2EBFA;\n",
              "      box-shadow: 0px 1px 2px rgba(60, 64, 67, 0.3), 0px 1px 3px 1px rgba(60, 64, 67, 0.15);\n",
              "      fill: #174EA6;\n",
              "    }\n",
              "\n",
              "    [theme=dark] .colab-df-convert {\n",
              "      background-color: #3B4455;\n",
              "      fill: #D2E3FC;\n",
              "    }\n",
              "\n",
              "    [theme=dark] .colab-df-convert:hover {\n",
              "      background-color: #434B5C;\n",
              "      box-shadow: 0px 1px 3px 1px rgba(0, 0, 0, 0.15);\n",
              "      filter: drop-shadow(0px 1px 2px rgba(0, 0, 0, 0.3));\n",
              "      fill: #FFFFFF;\n",
              "    }\n",
              "  </style>\n",
              "\n",
              "      <script>\n",
              "        const buttonEl =\n",
              "          document.querySelector('#df-531d81a8-3fee-4310-8c43-f8f682e057f2 button.colab-df-convert');\n",
              "        buttonEl.style.display =\n",
              "          google.colab.kernel.accessAllowed ? 'block' : 'none';\n",
              "\n",
              "        async function convertToInteractive(key) {\n",
              "          const element = document.querySelector('#df-531d81a8-3fee-4310-8c43-f8f682e057f2');\n",
              "          const dataTable =\n",
              "            await google.colab.kernel.invokeFunction('convertToInteractive',\n",
              "                                                     [key], {});\n",
              "          if (!dataTable) return;\n",
              "\n",
              "          const docLinkHtml = 'Like what you see? Visit the ' +\n",
              "            '<a target=\"_blank\" href=https://colab.research.google.com/notebooks/data_table.ipynb>data table notebook</a>'\n",
              "            + ' to learn more about interactive tables.';\n",
              "          element.innerHTML = '';\n",
              "          dataTable['output_type'] = 'display_data';\n",
              "          await google.colab.output.renderOutput(dataTable, element);\n",
              "          const docLink = document.createElement('div');\n",
              "          docLink.innerHTML = docLinkHtml;\n",
              "          element.appendChild(docLink);\n",
              "        }\n",
              "      </script>\n",
              "    </div>\n",
              "  </div>\n"
            ]
          },
          "metadata": {},
          "execution_count": 3
        }
      ]
    },
    {
      "cell_type": "code",
      "source": [
        "# making a copy of data\n",
        "df=data.copy()"
      ],
      "metadata": {
        "id": "9u7ny3ztKFNC"
      },
      "execution_count": 4,
      "outputs": []
    },
    {
      "cell_type": "code",
      "source": [
        "# Storing rolling means of different window size\n",
        "df['rm_7']=df['Close'].rolling(7).mean()\n",
        "df['rm_30']=df['Close'].rolling(30).mean()\n",
        "df['rm_90']=df['Close'].rolling(90).mean()\n",
        "df['rm_180']=df['Close'].rolling(180).mean()"
      ],
      "metadata": {
        "id": "LvJylqbgKILD"
      },
      "execution_count": 5,
      "outputs": []
    },
    {
      "cell_type": "code",
      "source": [
        "df['Target'] = df['Adj Close']-df.Open\n",
        "df['Target'] = df['Target'].shift(-1)\n",
        "df['TargetClass'] = [1 if df['Target'][i]>0 else 0 for i in range(len(df)) ]\n",
        "df['TargetNextClose'] = df['Adj Close'].shift(-1)\n",
        "\n",
        "df.dropna(inplace=True)\n",
        "df.reset_index(inplace=True)\n",
        "df.drop(['Close','Volume','Date'],axis=1,inplace=True)"
      ],
      "metadata": {
        "id": "c53v8IQpKII7"
      },
      "execution_count": 6,
      "outputs": []
    },
    {
      "cell_type": "code",
      "source": [
        "df"
      ],
      "metadata": {
        "colab": {
          "base_uri": "https://localhost:8080/",
          "height": 505
        },
        "id": "xeRBujLiKIGS",
        "outputId": "eb14e8fb-7f15-4494-90ac-425b61b7469e"
      },
      "execution_count": 7,
      "outputs": [
        {
          "output_type": "execute_result",
          "data": {
            "text/plain": [
              "            Open        High         Low   Adj Close        rm_7       rm_30  \\\n",
              "0       5.694157    5.694157    5.625913    5.653310    5.561974    4.971922   \n",
              "1       5.688677    5.709848    5.640608    5.679213    5.591293    5.012412   \n",
              "2       5.678715    5.691168    5.614705    5.629400    5.614669    5.049440   \n",
              "3       5.615701    5.673733    5.597021    5.673733    5.642422    5.089482   \n",
              "4       5.702874    5.777843    5.676971    5.760658    5.674445    5.131690   \n",
              "...          ...         ...         ...         ...         ...         ...   \n",
              "4593  129.600006  131.929993  128.315002  128.539993  130.547141  123.736333   \n",
              "4594  129.509995  132.059998  129.429993  131.940002  130.842856  124.033666   \n",
              "4595  130.979996  131.940002  130.130005  131.839996  130.675714  124.458666   \n",
              "4596  132.190002  132.470001  129.505005  130.149994  130.252856  124.829999   \n",
              "4597  131.970001  132.647003  130.035004  130.210007  130.012857  125.134333   \n",
              "\n",
              "           rm_90      rm_180    Target  TargetClass  TargetNextClose  \n",
              "0       4.818378    4.276256 -0.009464            0         5.679213  \n",
              "1       4.828136    4.293923 -0.049315            0         5.629400  \n",
              "2       4.837302    4.310211  0.058032            1         5.673733  \n",
              "3       4.845660    4.326594  0.057784            1         5.760658  \n",
              "4       4.856314    4.344087 -0.052054            0         5.696648  \n",
              "...          ...         ...       ...          ...              ...  \n",
              "4593  117.492278  106.535583  2.430008            1       131.940002  \n",
              "4594  117.832056  106.720139  0.860001            1       131.839996  \n",
              "4595  118.164722  106.902639 -2.040009            0       130.149994  \n",
              "4596  118.485055  107.078472 -1.759995            0       130.210007  \n",
              "4597  118.776278  107.258528  0.968002            1       130.169998  \n",
              "\n",
              "[4598 rows x 11 columns]"
            ],
            "text/html": [
              "\n",
              "\n",
              "  <div id=\"df-52f741d5-ba10-4728-bfcd-53864b501682\">\n",
              "    <div class=\"colab-df-container\">\n",
              "      <div>\n",
              "<style scoped>\n",
              "    .dataframe tbody tr th:only-of-type {\n",
              "        vertical-align: middle;\n",
              "    }\n",
              "\n",
              "    .dataframe tbody tr th {\n",
              "        vertical-align: top;\n",
              "    }\n",
              "\n",
              "    .dataframe thead th {\n",
              "        text-align: right;\n",
              "    }\n",
              "</style>\n",
              "<table border=\"1\" class=\"dataframe\">\n",
              "  <thead>\n",
              "    <tr style=\"text-align: right;\">\n",
              "      <th></th>\n",
              "      <th>Open</th>\n",
              "      <th>High</th>\n",
              "      <th>Low</th>\n",
              "      <th>Adj Close</th>\n",
              "      <th>rm_7</th>\n",
              "      <th>rm_30</th>\n",
              "      <th>rm_90</th>\n",
              "      <th>rm_180</th>\n",
              "      <th>Target</th>\n",
              "      <th>TargetClass</th>\n",
              "      <th>TargetNextClose</th>\n",
              "    </tr>\n",
              "  </thead>\n",
              "  <tbody>\n",
              "    <tr>\n",
              "      <th>0</th>\n",
              "      <td>5.694157</td>\n",
              "      <td>5.694157</td>\n",
              "      <td>5.625913</td>\n",
              "      <td>5.653310</td>\n",
              "      <td>5.561974</td>\n",
              "      <td>4.971922</td>\n",
              "      <td>4.818378</td>\n",
              "      <td>4.276256</td>\n",
              "      <td>-0.009464</td>\n",
              "      <td>0</td>\n",
              "      <td>5.679213</td>\n",
              "    </tr>\n",
              "    <tr>\n",
              "      <th>1</th>\n",
              "      <td>5.688677</td>\n",
              "      <td>5.709848</td>\n",
              "      <td>5.640608</td>\n",
              "      <td>5.679213</td>\n",
              "      <td>5.591293</td>\n",
              "      <td>5.012412</td>\n",
              "      <td>4.828136</td>\n",
              "      <td>4.293923</td>\n",
              "      <td>-0.049315</td>\n",
              "      <td>0</td>\n",
              "      <td>5.629400</td>\n",
              "    </tr>\n",
              "    <tr>\n",
              "      <th>2</th>\n",
              "      <td>5.678715</td>\n",
              "      <td>5.691168</td>\n",
              "      <td>5.614705</td>\n",
              "      <td>5.629400</td>\n",
              "      <td>5.614669</td>\n",
              "      <td>5.049440</td>\n",
              "      <td>4.837302</td>\n",
              "      <td>4.310211</td>\n",
              "      <td>0.058032</td>\n",
              "      <td>1</td>\n",
              "      <td>5.673733</td>\n",
              "    </tr>\n",
              "    <tr>\n",
              "      <th>3</th>\n",
              "      <td>5.615701</td>\n",
              "      <td>5.673733</td>\n",
              "      <td>5.597021</td>\n",
              "      <td>5.673733</td>\n",
              "      <td>5.642422</td>\n",
              "      <td>5.089482</td>\n",
              "      <td>4.845660</td>\n",
              "      <td>4.326594</td>\n",
              "      <td>0.057784</td>\n",
              "      <td>1</td>\n",
              "      <td>5.760658</td>\n",
              "    </tr>\n",
              "    <tr>\n",
              "      <th>4</th>\n",
              "      <td>5.702874</td>\n",
              "      <td>5.777843</td>\n",
              "      <td>5.676971</td>\n",
              "      <td>5.760658</td>\n",
              "      <td>5.674445</td>\n",
              "      <td>5.131690</td>\n",
              "      <td>4.856314</td>\n",
              "      <td>4.344087</td>\n",
              "      <td>-0.052054</td>\n",
              "      <td>0</td>\n",
              "      <td>5.696648</td>\n",
              "    </tr>\n",
              "    <tr>\n",
              "      <th>...</th>\n",
              "      <td>...</td>\n",
              "      <td>...</td>\n",
              "      <td>...</td>\n",
              "      <td>...</td>\n",
              "      <td>...</td>\n",
              "      <td>...</td>\n",
              "      <td>...</td>\n",
              "      <td>...</td>\n",
              "      <td>...</td>\n",
              "      <td>...</td>\n",
              "      <td>...</td>\n",
              "    </tr>\n",
              "    <tr>\n",
              "      <th>4593</th>\n",
              "      <td>129.600006</td>\n",
              "      <td>131.929993</td>\n",
              "      <td>128.315002</td>\n",
              "      <td>128.539993</td>\n",
              "      <td>130.547141</td>\n",
              "      <td>123.736333</td>\n",
              "      <td>117.492278</td>\n",
              "      <td>106.535583</td>\n",
              "      <td>2.430008</td>\n",
              "      <td>1</td>\n",
              "      <td>131.940002</td>\n",
              "    </tr>\n",
              "    <tr>\n",
              "      <th>4594</th>\n",
              "      <td>129.509995</td>\n",
              "      <td>132.059998</td>\n",
              "      <td>129.429993</td>\n",
              "      <td>131.940002</td>\n",
              "      <td>130.842856</td>\n",
              "      <td>124.033666</td>\n",
              "      <td>117.832056</td>\n",
              "      <td>106.720139</td>\n",
              "      <td>0.860001</td>\n",
              "      <td>1</td>\n",
              "      <td>131.839996</td>\n",
              "    </tr>\n",
              "    <tr>\n",
              "      <th>4595</th>\n",
              "      <td>130.979996</td>\n",
              "      <td>131.940002</td>\n",
              "      <td>130.130005</td>\n",
              "      <td>131.839996</td>\n",
              "      <td>130.675714</td>\n",
              "      <td>124.458666</td>\n",
              "      <td>118.164722</td>\n",
              "      <td>106.902639</td>\n",
              "      <td>-2.040009</td>\n",
              "      <td>0</td>\n",
              "      <td>130.149994</td>\n",
              "    </tr>\n",
              "    <tr>\n",
              "      <th>4596</th>\n",
              "      <td>132.190002</td>\n",
              "      <td>132.470001</td>\n",
              "      <td>129.505005</td>\n",
              "      <td>130.149994</td>\n",
              "      <td>130.252856</td>\n",
              "      <td>124.829999</td>\n",
              "      <td>118.485055</td>\n",
              "      <td>107.078472</td>\n",
              "      <td>-1.759995</td>\n",
              "      <td>0</td>\n",
              "      <td>130.210007</td>\n",
              "    </tr>\n",
              "    <tr>\n",
              "      <th>4597</th>\n",
              "      <td>131.970001</td>\n",
              "      <td>132.647003</td>\n",
              "      <td>130.035004</td>\n",
              "      <td>130.210007</td>\n",
              "      <td>130.012857</td>\n",
              "      <td>125.134333</td>\n",
              "      <td>118.776278</td>\n",
              "      <td>107.258528</td>\n",
              "      <td>0.968002</td>\n",
              "      <td>1</td>\n",
              "      <td>130.169998</td>\n",
              "    </tr>\n",
              "  </tbody>\n",
              "</table>\n",
              "<p>4598 rows × 11 columns</p>\n",
              "</div>\n",
              "      <button class=\"colab-df-convert\" onclick=\"convertToInteractive('df-52f741d5-ba10-4728-bfcd-53864b501682')\"\n",
              "              title=\"Convert this dataframe to an interactive table.\"\n",
              "              style=\"display:none;\">\n",
              "\n",
              "  <svg xmlns=\"http://www.w3.org/2000/svg\" height=\"24px\"viewBox=\"0 0 24 24\"\n",
              "       width=\"24px\">\n",
              "    <path d=\"M0 0h24v24H0V0z\" fill=\"none\"/>\n",
              "    <path d=\"M18.56 5.44l.94 2.06.94-2.06 2.06-.94-2.06-.94-.94-2.06-.94 2.06-2.06.94zm-11 1L8.5 8.5l.94-2.06 2.06-.94-2.06-.94L8.5 2.5l-.94 2.06-2.06.94zm10 10l.94 2.06.94-2.06 2.06-.94-2.06-.94-.94-2.06-.94 2.06-2.06.94z\"/><path d=\"M17.41 7.96l-1.37-1.37c-.4-.4-.92-.59-1.43-.59-.52 0-1.04.2-1.43.59L10.3 9.45l-7.72 7.72c-.78.78-.78 2.05 0 2.83L4 21.41c.39.39.9.59 1.41.59.51 0 1.02-.2 1.41-.59l7.78-7.78 2.81-2.81c.8-.78.8-2.07 0-2.86zM5.41 20L4 18.59l7.72-7.72 1.47 1.35L5.41 20z\"/>\n",
              "  </svg>\n",
              "      </button>\n",
              "\n",
              "\n",
              "\n",
              "    <div id=\"df-fb198959-ce66-4556-b63a-b96d78e67e16\">\n",
              "      <button class=\"colab-df-quickchart\" onclick=\"quickchart('df-fb198959-ce66-4556-b63a-b96d78e67e16')\"\n",
              "              title=\"Suggest charts.\"\n",
              "              style=\"display:none;\">\n",
              "\n",
              "<svg xmlns=\"http://www.w3.org/2000/svg\" height=\"24px\"viewBox=\"0 0 24 24\"\n",
              "     width=\"24px\">\n",
              "    <g>\n",
              "        <path d=\"M19 3H5c-1.1 0-2 .9-2 2v14c0 1.1.9 2 2 2h14c1.1 0 2-.9 2-2V5c0-1.1-.9-2-2-2zM9 17H7v-7h2v7zm4 0h-2V7h2v10zm4 0h-2v-4h2v4z\"/>\n",
              "    </g>\n",
              "</svg>\n",
              "      </button>\n",
              "    </div>\n",
              "\n",
              "<style>\n",
              "  .colab-df-quickchart {\n",
              "    background-color: #E8F0FE;\n",
              "    border: none;\n",
              "    border-radius: 50%;\n",
              "    cursor: pointer;\n",
              "    display: none;\n",
              "    fill: #1967D2;\n",
              "    height: 32px;\n",
              "    padding: 0 0 0 0;\n",
              "    width: 32px;\n",
              "  }\n",
              "\n",
              "  .colab-df-quickchart:hover {\n",
              "    background-color: #E2EBFA;\n",
              "    box-shadow: 0px 1px 2px rgba(60, 64, 67, 0.3), 0px 1px 3px 1px rgba(60, 64, 67, 0.15);\n",
              "    fill: #174EA6;\n",
              "  }\n",
              "\n",
              "  [theme=dark] .colab-df-quickchart {\n",
              "    background-color: #3B4455;\n",
              "    fill: #D2E3FC;\n",
              "  }\n",
              "\n",
              "  [theme=dark] .colab-df-quickchart:hover {\n",
              "    background-color: #434B5C;\n",
              "    box-shadow: 0px 1px 3px 1px rgba(0, 0, 0, 0.15);\n",
              "    filter: drop-shadow(0px 1px 2px rgba(0, 0, 0, 0.3));\n",
              "    fill: #FFFFFF;\n",
              "  }\n",
              "</style>\n",
              "\n",
              "    <script>\n",
              "      async function quickchart(key) {\n",
              "        const containerElement = document.querySelector('#' + key);\n",
              "        const charts = await google.colab.kernel.invokeFunction(\n",
              "            'suggestCharts', [key], {});\n",
              "      }\n",
              "    </script>\n",
              "\n",
              "      <script>\n",
              "\n",
              "function displayQuickchartButton(domScope) {\n",
              "  let quickchartButtonEl =\n",
              "    domScope.querySelector('#df-fb198959-ce66-4556-b63a-b96d78e67e16 button.colab-df-quickchart');\n",
              "  quickchartButtonEl.style.display =\n",
              "    google.colab.kernel.accessAllowed ? 'block' : 'none';\n",
              "}\n",
              "\n",
              "        displayQuickchartButton(document);\n",
              "      </script>\n",
              "      <style>\n",
              "    .colab-df-container {\n",
              "      display:flex;\n",
              "      flex-wrap:wrap;\n",
              "      gap: 12px;\n",
              "    }\n",
              "\n",
              "    .colab-df-convert {\n",
              "      background-color: #E8F0FE;\n",
              "      border: none;\n",
              "      border-radius: 50%;\n",
              "      cursor: pointer;\n",
              "      display: none;\n",
              "      fill: #1967D2;\n",
              "      height: 32px;\n",
              "      padding: 0 0 0 0;\n",
              "      width: 32px;\n",
              "    }\n",
              "\n",
              "    .colab-df-convert:hover {\n",
              "      background-color: #E2EBFA;\n",
              "      box-shadow: 0px 1px 2px rgba(60, 64, 67, 0.3), 0px 1px 3px 1px rgba(60, 64, 67, 0.15);\n",
              "      fill: #174EA6;\n",
              "    }\n",
              "\n",
              "    [theme=dark] .colab-df-convert {\n",
              "      background-color: #3B4455;\n",
              "      fill: #D2E3FC;\n",
              "    }\n",
              "\n",
              "    [theme=dark] .colab-df-convert:hover {\n",
              "      background-color: #434B5C;\n",
              "      box-shadow: 0px 1px 3px 1px rgba(0, 0, 0, 0.15);\n",
              "      filter: drop-shadow(0px 1px 2px rgba(0, 0, 0, 0.3));\n",
              "      fill: #FFFFFF;\n",
              "    }\n",
              "  </style>\n",
              "\n",
              "      <script>\n",
              "        const buttonEl =\n",
              "          document.querySelector('#df-52f741d5-ba10-4728-bfcd-53864b501682 button.colab-df-convert');\n",
              "        buttonEl.style.display =\n",
              "          google.colab.kernel.accessAllowed ? 'block' : 'none';\n",
              "\n",
              "        async function convertToInteractive(key) {\n",
              "          const element = document.querySelector('#df-52f741d5-ba10-4728-bfcd-53864b501682');\n",
              "          const dataTable =\n",
              "            await google.colab.kernel.invokeFunction('convertToInteractive',\n",
              "                                                     [key], {});\n",
              "          if (!dataTable) return;\n",
              "\n",
              "          const docLinkHtml = 'Like what you see? Visit the ' +\n",
              "            '<a target=\"_blank\" href=https://colab.research.google.com/notebooks/data_table.ipynb>data table notebook</a>'\n",
              "            + ' to learn more about interactive tables.';\n",
              "          element.innerHTML = '';\n",
              "          dataTable['output_type'] = 'display_data';\n",
              "          await google.colab.output.renderOutput(dataTable, element);\n",
              "          const docLink = document.createElement('div');\n",
              "          docLink.innerHTML = docLinkHtml;\n",
              "          element.appendChild(docLink);\n",
              "        }\n",
              "      </script>\n",
              "    </div>\n",
              "  </div>\n"
            ]
          },
          "metadata": {},
          "execution_count": 7
        }
      ]
    },
    {
      "cell_type": "code",
      "source": [],
      "metadata": {
        "id": "2VTj2wprPPQp"
      },
      "execution_count": 7,
      "outputs": []
    },
    {
      "cell_type": "code",
      "source": [
        "sn.heatmap(df.corr(method='spearman'),annot=True,mask=np.triu(df.corr(method='spearman')))"
      ],
      "metadata": {
        "colab": {
          "base_uri": "https://localhost:8080/",
          "height": 547
        },
        "id": "SEGpuLqKPZE9",
        "outputId": "aad70eff-5a33-4e2e-b689-f6bf0f143480"
      },
      "execution_count": 8,
      "outputs": [
        {
          "output_type": "execute_result",
          "data": {
            "text/plain": [
              "<Axes: >"
            ]
          },
          "metadata": {},
          "execution_count": 8
        },
        {
          "output_type": "display_data",
          "data": {
            "text/plain": [
              "<Figure size 640x480 with 2 Axes>"
            ],
            "image/png": "[encoded data removed]"
          },
          "metadata": {}
        }
      ]
    },
    {
      "cell_type": "code",
      "source": [
        "le = MinMaxScaler()"
      ],
      "metadata": {
        "id": "tbdCnvQh2Kn3"
      },
      "execution_count": 9,
      "outputs": []
    },
    {
      "cell_type": "code",
      "source": [
        "df = le.fit_transform(df)"
      ],
      "metadata": {
        "id": "Jv02XQ592PnJ"
      },
      "execution_count": 10,
      "outputs": []
    },
    {
      "cell_type": "code",
      "source": [
        "backcandles=30"
      ],
      "metadata": {
        "id": "v_2-1L35XuM5"
      },
      "execution_count": 11,
      "outputs": []
    },
    {
      "cell_type": "code",
      "source": [
        "df.shape"
      ],
      "metadata": {
        "colab": {
          "base_uri": "https://localhost:8080/"
        },
        "id": "SpVNz91xAkK4",
        "outputId": "05fcb630-2e61-4fef-9e8d-d7e957afe07b"
      },
      "execution_count": 12,
      "outputs": [
        {
          "output_type": "execute_result",
          "data": {
            "text/plain": [
              "(4598, 11)"
            ]
          },
          "metadata": {},
          "execution_count": 12
        }
      ]
    },
    {
      "cell_type": "code",
      "source": [
        "X=np.array([df[i:i+backcandles,:-1] for i in range(len(df)-backcandles+1)])"
      ],
      "metadata": {
        "id": "W5MKh2RAAkIY"
      },
      "execution_count": 13,
      "outputs": []
    },
    {
      "cell_type": "code",
      "source": [
        "X.shape"
      ],
      "metadata": {
        "colab": {
          "base_uri": "https://localhost:8080/"
        },
        "id": "XicLtOpJO7o-",
        "outputId": "8d8c7bbe-20aa-4976-fe0b-5b3a6824c4e3"
      },
      "execution_count": 14,
      "outputs": [
        {
          "output_type": "execute_result",
          "data": {
            "text/plain": [
              "(4569, 30, 10)"
            ]
          },
          "metadata": {},
          "execution_count": 14
        }
      ]
    },
    {
      "cell_type": "code",
      "source": [
        "Y=df[backcandles-1:,-1:]"
      ],
      "metadata": {
        "id": "E2Tkv52nvnyr"
      },
      "execution_count": 15,
      "outputs": []
    },
    {
      "cell_type": "code",
      "source": [
        "X.shape,Y.shape"
      ],
      "metadata": {
        "colab": {
          "base_uri": "https://localhost:8080/"
        },
        "id": "pYZChOfjwDuP",
        "outputId": "a35b9f6b-bf00-44a0-ca19-c75e245e3667"
      },
      "execution_count": 16,
      "outputs": [
        {
          "output_type": "execute_result",
          "data": {
            "text/plain": [
              "((4569, 30, 10), (4569, 1))"
            ]
          },
          "metadata": {},
          "execution_count": 16
        }
      ]
    },
    {
      "cell_type": "code",
      "source": [
        "x_train = X[:int(X.shape[0]*.9)]\n",
        "y_train = Y[:int(X.shape[0]*.9)]\n",
        "x_val = X[int(X.shape[0]*.9):int(X.shape[0]*.95)]\n",
        "y_val = Y[int(X.shape[0]*.9):int(X.shape[0]*.95)]\n",
        "x_test = X[int(X.shape[0]*.95):]\n",
        "y_test = Y[int(X.shape[0]*.95):]"
      ],
      "metadata": {
        "id": "-9CjzaWOwSOr"
      },
      "execution_count": 17,
      "outputs": []
    },
    {
      "cell_type": "code",
      "source": [
        "x_train.shape,y_train.shape,x_test.shape,y_test.shape,x_val.shape,y_val.shape"
      ],
      "metadata": {
        "colab": {
          "base_uri": "https://localhost:8080/"
        },
        "id": "Lx15fKCwX18x",
        "outputId": "3beaf9c7-cf18-4e68-a244-7eb82d86ffcb"
      },
      "execution_count": 18,
      "outputs": [
        {
          "output_type": "execute_result",
          "data": {
            "text/plain": [
              "((4112, 30, 10), (4112, 1), (229, 30, 10), (229, 1), (228, 30, 10), (228, 1))"
            ]
          },
          "metadata": {},
          "execution_count": 18
        }
      ]
    },
    {
      "cell_type": "code",
      "source": [
        "model = Sequential()\n",
        "model.add(LSTM(32,input_shape=(backcandles,x_train.shape[-1]),return_sequences=False))\n",
        "# model.add(LSTM(32,return_sequences=False))\n",
        "# model.add(LSTM(16,return_sequences=False))\n",
        "model.add(Dropout(.1))\n",
        "model.add(Dense(1,'linear'))"
      ],
      "metadata": {
        "id": "gi0L0htI1N-z"
      },
      "execution_count": 48,
      "outputs": []
    },
    {
      "cell_type": "markdown",
      "source": [],
      "metadata": {
        "id": "bVgn6RDnf7XU"
      }
    },
    {
      "cell_type": "code",
      "source": [
        "model.summary()"
      ],
      "metadata": {
        "id": "7EZcKj2c6czC",
        "colab": {
          "base_uri": "https://localhost:8080/"
        },
        "outputId": "0df32b8f-b913-4582-f457-d3e97b3780ea"
      },
      "execution_count": 49,
      "outputs": [
        {
          "output_type": "stream",
          "name": "stdout",
          "text": [
            "Model: \"sequential_3\"\n",
            "_________________________________________________________________\n",
            " Layer (type)                Output Shape              Param #   \n",
            "=================================================================\n",
            " lstm_3 (LSTM)               (None, 32)                5504      \n",
            "                                                                 \n",
            " dropout_3 (Dropout)         (None, 32)                0         \n",
            "                                                                 \n",
            " dense_3 (Dense)             (None, 1)                 33        \n",
            "                                                                 \n",
            "=================================================================\n",
            "Total params: 5,537\n",
            "Trainable params: 5,537\n",
            "Non-trainable params: 0\n",
            "_________________________________________________________________\n"
          ]
        }
      ]
    },
    {
      "cell_type": "code",
      "source": [
        "model.compile(optimizer=Adam(learning_rate=0.0001),loss='mse',metrics=['RootMeanSquaredError'])"
      ],
      "metadata": {
        "id": "-HQu2eMN6gKX"
      },
      "execution_count": 50,
      "outputs": []
    },
    {
      "cell_type": "code",
      "source": [
        "history = model.fit(x=x_train,y=y_train,\n",
        "                    validation_data=(x_val,y_val),\n",
        "                    epochs = 500, batch_size = 64,\n",
        "                    verbose=0,\n",
        "                    # callbacks=[EarlyStopping(monitor='val_loss', patience=15,verbose=0)]\n",
        "                    )"
      ],
      "metadata": {
        "id": "Ulm-phyY1N02"
      },
      "execution_count": 51,
      "outputs": []
    },
    {
      "cell_type": "code",
      "source": [
        "plt.figure(figsize=(12,4))\n",
        "plt.subplot(1,2,1)\n",
        "sn.lineplot(history.history['loss'],label='loss')\n",
        "sn.lineplot(history.history['val_loss'],label='val_loss')\n",
        "plt.subplot(1,2,2)\n",
        "sn.lineplot(history.history['root_mean_squared_error'],label='rmse')\n",
        "sn.lineplot(history.history['val_root_mean_squared_error'],label='val_rmse')\n"
      ],
      "metadata": {
        "colab": {
          "base_uri": "https://localhost:8080/",
          "height": 370
        },
        "id": "jlwBP42zcvVs",
        "outputId": "f2c4d0c4-38ae-4e82-b839-5e45913e1ecb"
      },
      "execution_count": 52,
      "outputs": [
        {
          "output_type": "execute_result",
          "data": {
            "text/plain": [
              "<Axes: >"
            ]
          },
          "metadata": {},
          "execution_count": 52
        },
        {
          "output_type": "display_data",
          "data": {
            "text/plain": [
              "<Figure size 1200x400 with 2 Axes>"
            ],
            "image/png": "[encoded data removed]"
          },
          "metadata": {}
        }
      ]
    },
    {
      "cell_type": "code",
      "source": [
        "y_predicted=model.predict(x_test)\n",
        "plt.figure(figsize=(14,6))\n",
        "sn.lineplot(le.inverse_transform(np.repeat(y_predicted,11,axis=1))[:,0],label='predictions')\n",
        "sn.lineplot(le.inverse_transform(np.repeat(y_test,11,axis=1))[:,0],label='Actual')\n"
      ],
      "metadata": {
        "colab": {
          "base_uri": "https://localhost:8080/",
          "height": 471
        },
        "id": "FaFnmkqycvTK",
        "outputId": "64893e1f-60b2-46b3-f6be-5316a4490eef"
      },
      "execution_count": 56,
      "outputs": [
        {
          "output_type": "stream",
          "name": "stdout",
          "text": [
            "8/8 [==============================] - 0s 4ms/step\n"
          ]
        },
        {
          "output_type": "execute_result",
          "data": {
            "text/plain": [
              "<Axes: >"
            ]
          },
          "metadata": {},
          "execution_count": 56
        },
        {
          "output_type": "display_data",
          "data": {
            "text/plain": [
              "<Figure size 1400x600 with 1 Axes>"
            ],
            "image/png": "[encoded data removed]"
          },
          "metadata": {}
        }
      ]
    },
    {
      "cell_type": "code",
      "source": [
        "np.mean(np.square(y_test-y_predicted))"
      ],
      "metadata": {
        "colab": {
          "base_uri": "https://localhost:8080/"
        },
        "id": "btjXrnWocvQZ",
        "outputId": "82e6d781-f42d-4781-ebd7-c3919a383565"
      },
      "execution_count": 54,
      "outputs": [
        {
          "output_type": "execute_result",
          "data": {
            "text/plain": [
              "0.0001683236563541497"
            ]
          },
          "metadata": {},
          "execution_count": 54
        }
      ]
    },
    {
      "cell_type": "code",
      "source": [
        "model.save(\"./saved\\ model\")"
      ],
      "metadata": {
        "colab": {
          "base_uri": "https://localhost:8080/"
        },
        "id": "73KSTe_Cobnf",
        "outputId": "471cba03-89bb-49fc-d377-b955e6a25108"
      },
      "execution_count": 59,
      "outputs": [
        {
          "output_type": "stream",
          "name": "stderr",
          "text": [
            "WARNING:absl:Found untraced functions such as lstm_cell_3_layer_call_fn, lstm_cell_3_layer_call_and_return_conditional_losses while saving (showing 2 of 2). These functions will not be directly callable after loading.\n"
          ]
        }
      ]
    },
    {
      "cell_type": "code",
      "source": [],
      "metadata": {
        "id": "mV4zkUu4obke"
      },
      "execution_count": null,
      "outputs": []
    },
    {
      "cell_type": "code",
      "source": [],
      "metadata": {
        "id": "dOxyXMplobec"
      },
      "execution_count": null,
      "outputs": []
    },
    {
      "cell_type": "code",
      "source": [],
      "metadata": {
        "id": "A8IEI6qfobbj"
      },
      "execution_count": null,
      "outputs": []
    },
    {
      "cell_type": "code",
      "source": [],
      "metadata": {
        "id": "NGbZ26tmobYx"
      },
      "execution_count": null,
      "outputs": []
    },
    {
      "cell_type": "code",
      "source": [],
      "metadata": {
        "id": "a3VDiAAIobWl"
      },
      "execution_count": null,
      "outputs": []
    }
  ]
}